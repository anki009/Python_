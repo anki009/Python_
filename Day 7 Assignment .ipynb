{
 "cells": [
  {
   "cell_type": "code",
   "execution_count": 41,
   "metadata": {},
   "outputs": [
    {
     "name": "stdout",
     "output_type": "stream",
     "text": [
      "Writing isprime.py\n"
     ]
    }
   ],
   "source": [
    "#1\n",
    "%%writefile isprime.py\n",
    "def test_prime(arg):\n",
    "    if arg == 1:\n",
    "        return True\n",
    "    elif arg == 2:\n",
    "        return True\n",
    "    else:\n",
    "        for i in range(2, arg):\n",
    "            if arg % i == 0:\n",
    "                return False\n",
    "        return True\n",
    "    "
   ]
  },
  {
   "cell_type": "code",
   "execution_count": 44,
   "metadata": {},
   "outputs": [
    {
     "name": "stdout",
     "output_type": "stream",
     "text": [
      "13\n",
      "13 is prime number\n"
     ]
    }
   ],
   "source": [
    "import sys\n",
    "import isprime\n",
    "\n",
    "try:\n",
    "    n = int(input())\n",
    "except:\n",
    "    print(\"please enter valid input\")\n",
    "    \n",
    "res = isprime.test_prime(n)\n",
    "if res:\n",
    "    print(n,\"is prime number\")\n",
    "else:\n",
    "    print(n,\"is not prime number\")"
   ]
  },
  {
   "cell_type": "code",
   "execution_count": null,
   "metadata": {},
   "outputs": [],
   "source": [
    "# 2"
   ]
  },
  {
   "cell_type": "code",
   "execution_count": 38,
   "metadata": {},
   "outputs": [],
   "source": [
    "def decor(some_func):\n",
    "    def wrap():\n",
    "        print(\"we are going to print fibonacci series\")\n",
    "        some_func()\n",
    "        print(\"above is the fibonacci series\")\n",
    "    return wrap"
   ]
  },
  {
   "cell_type": "code",
   "execution_count": 39,
   "metadata": {},
   "outputs": [],
   "source": [
    "@decor\n",
    "def fibonacci():  \n",
    "    n= int(input(\"enter number of terms: \"))\n",
    "\n",
    "    n1, n2 = 0, 1\n",
    "    count = 0\n",
    "\n",
    "    if n <= 0:\n",
    "       print(\"Please enter a positive integer\")\n",
    "    elif n == 1:\n",
    "       print(\"Fibonacci sequence upto\",nterms,\":\")\n",
    "       print(n1)\n",
    "    else:\n",
    "       print(\"Fibonacci sequence:\")\n",
    "       while count < n:\n",
    "           print(n1)\n",
    "           nth = n1 + n2\n",
    "           \n",
    "           n1 = n2\n",
    "           n2 = nth\n",
    "           count += 1\n",
    "    \n"
   ]
  },
  {
   "cell_type": "code",
   "execution_count": 40,
   "metadata": {},
   "outputs": [
    {
     "name": "stdout",
     "output_type": "stream",
     "text": [
      "we are going to print fibonacci series\n",
      "enter number of terms: 10\n",
      "Fibonacci sequence:\n",
      "0\n",
      "1\n",
      "1\n",
      "2\n",
      "3\n",
      "5\n",
      "8\n",
      "13\n",
      "21\n",
      "34\n",
      "above is the fibonacci series\n"
     ]
    }
   ],
   "source": [
    "fibonacci()"
   ]
  }
 ],
 "metadata": {
  "kernelspec": {
   "display_name": "Python 3",
   "language": "python",
   "name": "python3"
  },
  "language_info": {
   "codemirror_mode": {
    "name": "ipython",
    "version": 3
   },
   "file_extension": ".py",
   "mimetype": "text/x-python",
   "name": "python",
   "nbconvert_exporter": "python",
   "pygments_lexer": "ipython3",
   "version": "3.7.3"
  }
 },
 "nbformat": 4,
 "nbformat_minor": 2
}
